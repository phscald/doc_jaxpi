{
 "cells": [
  {
   "cell_type": "code",
   "execution_count": 2,
   "metadata": {},
   "outputs": [
    {
     "name": "stdout",
     "output_type": "stream",
     "text": [
      "1.5128872107779776\n"
     ]
    }
   ],
   "source": [
    "import numpy as np\n",
    "import pickle\n",
    "\n",
    "\n",
    "filepath = './uvp_coord3.pkl'\n",
    "with open(filepath, 'rb') as filepath:\n",
    "    arquivos = pickle.load(filepath)\n",
    "\n",
    "uvp = arquivos['data_uvp']\n",
    "coord = arquivos['coord']\n",
    "\n",
    "tam = int((uvp.shape[0])/3)\n",
    "u_fem = uvp[0:tam]\n",
    "v_fem = uvp[tam:2*tam]\n",
    "p_fem = uvp[2*tam:3*tam]\n",
    "\n",
    "print(np.max(u_fem))"
   ]
  }
 ],
 "metadata": {
  "kernelspec": {
   "display_name": "Python 3",
   "language": "python",
   "name": "python3"
  },
  "language_info": {
   "codemirror_mode": {
    "name": "ipython",
    "version": 3
   },
   "file_extension": ".py",
   "mimetype": "text/x-python",
   "name": "python",
   "nbconvert_exporter": "python",
   "pygments_lexer": "ipython3",
   "version": "3.11.0"
  },
  "orig_nbformat": 4
 },
 "nbformat": 4,
 "nbformat_minor": 2
}
